{
 "cells": [
  {
   "cell_type": "markdown",
   "metadata": {
    "colab_type": "text",
    "id": "O0fFgFRGksH6"
   },
   "source": [
    "## Installation\n",
    "\n",
    "To run this you need several packages. First of all, you need anaconda, which you most likely already have if you're viewing this through jupyter. If not then check the readme on the class page.\n",
    "\n",
    "System requirements: This should work on all operating systems (Linux, Mac, and Windows). However, several of the environments in the OpenAI-gym require additional simulators which don't aren't easy to get on Windows. In any case, it is strongly recommended that you use Linux, although you should be ok with Mac. (HINT: if you're on Windows check out the Windows Subsystem for Linux (WSL), although it'll make visualizing your policies a little tricky).\n",
    "\n",
    "Then install the following packages (using conda or pip):\n",
    "\n",
    "- pytorch --> `conda install pytorch -c pytorch`\n",
    "- gym --> `pip install gym`\n",
    "- gym (the cool environments, doesnt work on Windows) --> `pip install gym[all]`\n",
    "(When install gym[all] don't worry if the mujoco installation doesn't work. That's a more advanced 3D physics simulator that has to be set up separately (see website). Anyway, we don't need it necessarily)."
   ]
  },
  {
   "cell_type": "code",
   "execution_count": null,
   "metadata": {
    "colab": {
     "base_uri": "https://localhost:8080/",
     "height": 391
    },
    "colab_type": "code",
    "id": "nomKMuz0lrWL",
    "outputId": "ea783419-3632-4dce-f0ba-bba4c7e060a7"
   },
   "outputs": [],
   "source": [
    "# If you're using colab, this will install the necessary packages!\n",
    "!pip install torch\n",
    "!pip install gym\n",
    "!pip install numpy\n",
    "!wget https://pjreddie.com/media/files/rlhw_util.py"
   ]
  },
  {
   "cell_type": "code",
   "execution_count": null,
   "metadata": {
    "colab": {},
    "colab_type": "code",
    "id": "NzmPUAD1ksH7"
   },
   "outputs": [],
   "source": [
    "import sys, os, time\n",
    "import numpy as np\n",
    "import matplotlib.pyplot as plt\n",
    "import torch\n",
    "import torch.nn as nn\n",
    "import torch.optim as optim\n",
    "import torch.nn.functional as F\n",
    "import torch.multiprocessing as mp\n",
    "from torch import distributions\n",
    "from torch.distributions import Categorical\n",
    "from itertools import islice\n",
    "\n",
    "import pickle\n",
    "import gym"
   ]
  },
  {
   "cell_type": "markdown",
   "metadata": {
    "colab_type": "text",
    "id": "WXry0cZLksH_"
   },
   "source": [
    "# Introduction\n",
    "Welcome to the RL playground. Your task is to implement the REINFORCE and A3C algorithm to solve various OpenAI-gym environments. If you are not familiar with OpenAI-gym, stop reading and visit https://gym.openai.com/envs/ to see all the tasks you can try to solve.\n",
    "\n",
    "In this homework, we will only look at tasks with a discrete (and small) action space. That being said, both algorithms can be modified slightly to work on tasks with continuous action spaces. For full credit you must fill in the code below so you achieve an average total reward per episode on the cartpole task (CartPole-v1) of at least 499 (for an episode length of 500) for both REINFORCE and A3C. Then you must apply your code to any one other environment in OpenAI-gym, and plot and compare the learning curves (average total reward per episode vs number of episodes trained on) between REINFORCE and A3C (where at least one of the algorithms shows significant improvement from initialization).\n",
    "\n",
    "Below there's an overview of what every iteration will look like, regardless of whether you want to train or evaluate your agent."
   ]
  },
  {
   "cell_type": "code",
   "execution_count": null,
   "metadata": {
    "colab": {},
    "colab_type": "code",
    "id": "IBY204WCksIA"
   },
   "outputs": [],
   "source": [
    "from rlhw_util import * # <-- look whats inside here - it could save you a lot of work!\n",
    "\n",
    "def run_iteration(mode, N, agent, gen, horizon=None, render=False):\n",
    "    train = mode == 'train'\n",
    "    if train:\n",
    "        agent.train()\n",
    "    else:\n",
    "        agent.eval()\n",
    "\n",
    "    states, actions, rewards = zip(*[gen(horizon=horizon, render=render) for _ in range(N)])\n",
    "\n",
    "    loss = None\n",
    "    if train:\n",
    "        loss = agent.learn(states, actions, rewards)\n",
    "\n",
    "    reward = sum([r.sum() for r in rewards]) / N\n",
    "\n",
    "    return reward, loss"
   ]
  },
  {
   "cell_type": "markdown",
   "metadata": {
    "colab_type": "text",
    "id": "FbOI_tXDksIC"
   },
   "source": [
    "## The Actor\n",
    "\n",
    "We need to learn a policy which, given some state, outputs a distribution over all possible actions. As this is deep RL, we'll use a deep neural network to turn the observed state into the requisite action distribution. From this action distribution we can choose what action to take using `get_action`. Pytorch, brilliant as it is, makes our task incredibly easy, as we can use the `torch.distributions.Categorical` class for sampling.\n",
    "\n",
    "You can experiment with all sorts of network architectures, but remember this is RL, not image classification on ImageNet, so you probably won't need a very deep network (HINT: look below at the state and action dimensionality to get a feel for the task)."
   ]
  },
  {
   "cell_type": "code",
   "execution_count": null,
   "metadata": {
    "colab": {},
    "colab_type": "code",
    "id": "QkW0tUvZksID"
   },
   "outputs": [],
   "source": [
    "class Actor(nn.Module):\n",
    "    def __init__(self, state_dim, action_dim):\n",
    "        super(Actor, self).__init__()\n",
    "        \n",
    "        hidden_dim = 512\n",
    "        \n",
    "        # TODO: Fill in the code to define you policy\n",
    "        self.fc1 = nn.Linear(state_dim, hidden_dim)\n",
    "        self.fc2 = nn.Linear(hidden_dim, hidden_dim)\n",
    "        self.fc3 = nn.Linear(hidden_dim, action_dim)\n",
    "        self.layers = nn.Sequential(\n",
    "          nn.Linear(state_dim, hidden_dim),\n",
    "          nn.ReLU(True),\n",
    "          #nn.Linear(256, 128),\n",
    "          #nn.ReLU(True),\n",
    "          nn.Linear(hidden_dim, action_dim),\n",
    "          nn.Softmax()\n",
    "        )\n",
    "        \n",
    "        \n",
    "    def forward(self, state):\n",
    "        \n",
    "        # TODO: Fill in the code to run a forward pass of your policy to get a distribution over actions (HINT: probabilities sum to 1)\n",
    "        x_0 = F.leaky_relu(self.fc1(state))\n",
    "        x = F.leaky_relu(self.fc2(x_0))\n",
    "        return F.softmax(self.fc3(x))\n",
    "        \n",
    "        # return self.layers(state)\n",
    "\n",
    "    def get_policy(self, state):\n",
    "        return Categorical(self(state))\n",
    "\n",
    "    def get_action(self, state, greedy=None):\n",
    "        if greedy is None:\n",
    "            greedy = not self.training\n",
    "\n",
    "        policy = self.get_policy(state)\n",
    "        return MLE(policy) if greedy else policy.sample()"
   ]
  },
  {
   "cell_type": "markdown",
   "metadata": {
    "colab_type": "text",
    "id": "5NYbREzFksIF"
   },
   "source": [
    "## The REINFORCE Agent\n",
    "\n",
    "The Actor defines our policy, but we also have to define how and when we'll be updating our policy, which brings us to the agent. The agent will house the policy (an `Actor`), and can then be used to generate rollouts (using `forward()`) or update the policy given a list of rollouts (using `learn()`).\n",
    "\n",
    "The REINFORCE algorithm naively uses the returns directly to weight the gradients, however this makes the variance in the policy gradient estimation very large. As a result, we will use a baseline which is a linear model which takes in a state and outputs the return (sounds like a value function, right?). Except we're not going to train our baseline using gradient descent, instead we'll just solve the linear system analytically in every iteration, and use the solution in the next iteration. Don't worry about training/updating the baseline, but you do have to use it in the right way. (Optional experiment: try removing the baseline and see how performance changes)"
   ]
  },
  {
   "cell_type": "code",
   "execution_count": 82,
   "metadata": {
    "colab": {},
    "colab_type": "code",
    "id": "nQ7mlwvLksIG"
   },
   "outputs": [],
   "source": [
    "class REINFORCE(nn.Module):\n",
    "    \n",
    "    def __init__(self, state_dim, action_dim, discount=0.97, lr=1e-3, weight_decay=1e-4):\n",
    "        super(REINFORCE, self).__init__()\n",
    "        self.actor = Actor(state_dim, action_dim)\n",
    "        \n",
    "        self.baseline = nn.Linear(state_dim, 1)\n",
    "        \n",
    "        # TODO: create an optimizer for the parameters of your actor (HINT: use the passed in lr and weight_decay args)\n",
    "        self.optim = optim.Adam(self.actor.parameters(), lr=lr, weight_decay=weight_decay)\n",
    "        \n",
    "        self.discount = discount\n",
    "        \n",
    "    def forward(self, state):\n",
    "        return self.actor.get_action(state)\n",
    "    \n",
    "    def learn(self, states, actions, rewards):\n",
    "        '''\n",
    "        Takes in three arguments each of which is a list with equal length. Each element in the list is a \n",
    "        pytorch tensor with 1 row for every step in the episode, and the columns are state_dim, action_dim, \n",
    "        and 1, respectively.\n",
    "        '''\n",
    "        \n",
    "        # TODO: implement the REINFORCE algorithm (HINT: check the slides/papers)\n",
    "        \n",
    "        returns = [compute_returns(rs, discount=self.discount) for rs in rewards]\n",
    "        \n",
    "        states, actions, returns = torch.cat(states), torch.cat(actions), torch.cat(returns)\n",
    "        \n",
    "        self.optim.zero_grad()\n",
    "        total_loss = 0.0\n",
    "        for state, action, return_i in zip(states, actions, returns):\n",
    "          policy = self.actor.get_policy(state)\n",
    "          item = -policy.log_prob(action) * return_i\n",
    "          total_loss += item\n",
    "\n",
    "        # print(total_loss)\n",
    "        # loss = torch.cat(policy_loss).sum()\n",
    "        total_loss.backward()\n",
    "        self.optim.step()\n",
    "        \n",
    "        error = F.mse_loss(self.baseline(states).squeeze(), returns).detach()\n",
    "        solve(states, returns, out=self.baseline)\n",
    "        #error = F.mse_loss(self.baseline(states).squeeze(), returns).detach()\n",
    "        \n",
    "        return error.item() # Returns a rough estimate of the error in the baseline (dont worry about this too much)"
   ]
  },
  {
   "cell_type": "markdown",
   "metadata": {
    "colab_type": "text",
    "id": "ogkj6xjeksII"
   },
   "source": [
    "## The Critic\n",
    "\n",
    "Now we can introduce a critic, which is essentially a value function to estimate the expected discounted reward of a state."
   ]
  },
  {
   "cell_type": "code",
   "execution_count": 83,
   "metadata": {
    "colab": {},
    "colab_type": "code",
    "id": "uGYwOY6AksIJ"
   },
   "outputs": [],
   "source": [
    "class Critic(nn.Module):\n",
    "    def __init__(self, state_dim):\n",
    "        super(Critic, self).__init__()\n",
    "        \n",
    "        # TODO: define your value function network\n",
    "        \n",
    "        # raise NotImplementedError\n",
    "        self.layers = nn.Sequential(\n",
    "          nn.Linear(state_dim, 256),\n",
    "          nn.LeakyReLU(True),\n",
    "          nn.Linear(256, 512),\n",
    "          nn.LeakyReLU(True),\n",
    "          nn.Linear(512, 256),\n",
    "          nn.LeakyReLU(True),\n",
    "          nn.Linear(256, 1)\n",
    "        )\n",
    "#         self.fc1 = nn.Linear(state_dim, 128)\n",
    "#         self.fc3 = nn.Linear(128, 128)\n",
    "#         self.fc2 = nn.Linear(128, 1)\n",
    "\n",
    "    def forward(self, state):\n",
    "        \n",
    "        # TODO: apply your value function network to get a value given this batch of states\n",
    "        \n",
    "        return self.layers(state)"
   ]
  },
  {
   "cell_type": "markdown",
   "metadata": {
    "colab_type": "text",
    "id": "5rfkylePksIL"
   },
   "source": [
    "## The A3C Agent\n",
    "\n",
    "Now we can put the actor and critic together using the A3C algorithm. It turns out, the tasks in the gym are all so simple that there is essentially no gain in parallelization, so technically we're implementing A2C (no async), but the RL part is the same."
   ]
  },
  {
   "cell_type": "code",
   "execution_count": 84,
   "metadata": {
    "colab": {},
    "colab_type": "code",
    "id": "QoZgaABTksIL"
   },
   "outputs": [],
   "source": [
    "class A3C(nn.Module):\n",
    "    \n",
    "    def __init__(self, state_dim, action_dim, discount=0.97, lr=1e-3, weight_decay=1e-4):\n",
    "        super(A3C, self).__init__()\n",
    "        self.actor = Actor(state_dim, action_dim)\n",
    "        self.critic = Critic(state_dim)\n",
    "        \n",
    "        # TODO: create an optimizer for the parameters of your actor (HINT: use the passed in lr and weight_decay args)\n",
    "        # (HINT: the actor and critic have different objectives, so how many optimizers do you need?)\n",
    "        # raise NotImplementedError\n",
    "        self.actor_optim = optim.Adam(self.actor.parameters(), lr=lr, weight_decay=weight_decay)\n",
    "        self.critic_optim = optim.Adam(self.critic.parameters(), lr=lr, weight_decay=weight_decay)\n",
    "        \n",
    "        self.discount = discount\n",
    "        \n",
    "    def forward(self, state):\n",
    "        return self.actor.get_action(state)\n",
    "    \n",
    "    def learn(self, states, actions, rewards):\n",
    "        \n",
    "        returns = [compute_returns(rs, discount=self.discount) for rs in rewards]\n",
    "        \n",
    "        states, actions, returns = torch.cat(states), torch.cat(actions), torch.cat(returns)\n",
    "        \n",
    "        # TODO: implement A3C (HINT: algorithm details found in A3C paper supplement) \n",
    "        # (HINT2: the algorithm is actually very similar to REINFORCE, the only difference is now we have a critic, what might that do?)\n",
    "        self.actor_optim.zero_grad()\n",
    "        self.critic_optim.zero_grad()\n",
    "        policy_loss = []\n",
    "        total_loss = 0.0\n",
    "        for state, action, return_i in zip(states, actions, returns):\n",
    "          value = self.critic(state)\n",
    "          R = return_i + self.discount * value\n",
    "          policy = self.actor.get_policy(state)\n",
    "          item = -policy.log_prob(action) * (R - value)\n",
    "          total_loss += item\n",
    "\n",
    "        total_loss.backward()\n",
    "        self.actor_optim.step()\n",
    "        error = F.mse_loss(self.critic(states).squeeze(), returns)\n",
    "        error.backward()\n",
    "        self.critic_optim.step()\n",
    "        \n",
    "        # raise NotImplementedError\n",
    "        return error.item()"
   ]
  },
  {
   "cell_type": "markdown",
   "metadata": {
    "colab_type": "text",
    "id": "Hq-zQWzAksIO"
   },
   "source": [
    "## Part 1: Balancing a pole with a cart\n",
    "\n",
    "First, we'll test both algorithms on a very simple toy system: the cartpole. Eventhough it's very low dimensional (state=4, action=2), this task is nontrival because it is underactuated. Nevertheless after a few thousand episodes our policy shouldn't have a problem! "
   ]
  },
  {
   "cell_type": "code",
   "execution_count": 97,
   "metadata": {
    "colab": {},
    "colab_type": "code",
    "id": "RGBdP7leksIP"
   },
   "outputs": [],
   "source": [
    "# Optimization hyperparameters\n",
    "lr = 1e-3\n",
    "weight_decay = 1e-4"
   ]
  },
  {
   "cell_type": "code",
   "execution_count": 98,
   "metadata": {
    "colab": {
     "base_uri": "https://localhost:8080/",
     "height": 82
    },
    "colab_type": "code",
    "id": "8vAi8sXuksIS",
    "outputId": "b129e877-1634-47de-eb7a-5e8e168c613d"
   },
   "outputs": [
    {
     "name": "stdout",
     "output_type": "stream",
     "text": [
      "8\n",
      "4\n"
     ]
    }
   ],
   "source": [
    "# env_name = 'CartPole-v1' \n",
    "env_name = 'LunarLander-v2'\n",
    "e = Pytorch_Gym_Env(env_name)\n",
    "state_dim = e.observation_space.shape[0]\n",
    "print(state_dim)\n",
    "action_dim = e.action_space.n\n",
    "print(action_dim)"
   ]
  },
  {
   "cell_type": "code",
   "execution_count": 99,
   "metadata": {
    "colab": {
     "base_uri": "https://localhost:8080/",
     "height": 407
    },
    "colab_type": "code",
    "id": "Meq1LT8NksIV",
    "outputId": "119fc4a6-dd4f-4d60-b9d5-6d63ed835404",
    "scrolled": false
   },
   "outputs": [
    {
     "name": "stdout",
     "output_type": "stream",
     "text": [
      "A3C(\n",
      "  (actor): Actor(\n",
      "    (fc1): Linear(in_features=8, out_features=512, bias=True)\n",
      "    (fc2): Linear(in_features=512, out_features=512, bias=True)\n",
      "    (fc3): Linear(in_features=512, out_features=4, bias=True)\n",
      "    (layers): Sequential(\n",
      "      (0): Linear(in_features=8, out_features=512, bias=True)\n",
      "      (1): ReLU(inplace)\n",
      "      (2): Linear(in_features=512, out_features=4, bias=True)\n",
      "      (3): Softmax()\n",
      "    )\n",
      "  )\n",
      "  (critic): Critic(\n",
      "    (layers): Sequential(\n",
      "      (0): Linear(in_features=8, out_features=256, bias=True)\n",
      "      (1): LeakyReLU(negative_slope=True)\n",
      "      (2): Linear(in_features=256, out_features=512, bias=True)\n",
      "      (3): LeakyReLU(negative_slope=True)\n",
      "      (4): Linear(in_features=512, out_features=256, bias=True)\n",
      "      (5): LeakyReLU(negative_slope=True)\n",
      "      (6): Linear(in_features=256, out_features=1, bias=True)\n",
      "    )\n",
      "  )\n",
      ")\n"
     ]
    }
   ],
   "source": [
    "# Choose what agent to use\n",
    "# agent = REINFORCE(state_dim, action_dim, lr=lr, weight_decay=weight_decay)\n",
    "agent = A3C(state_dim, action_dim, lr=lr, weight_decay=weight_decay)\n",
    "ALGORITHM_IMPLEMENTED = 'A3C'\n",
    "\n",
    "total_episodes = 0\n",
    "print(agent) # Let's take a look at what we're working with..."
   ]
  },
  {
   "cell_type": "code",
   "execution_count": 100,
   "metadata": {
    "colab": {},
    "colab_type": "code",
    "id": "WUl_VOypksIX"
   },
   "outputs": [],
   "source": [
    "# Create a \n",
    "gen = Generator(e, agent)"
   ]
  },
  {
   "cell_type": "code",
   "execution_count": 101,
   "metadata": {
    "colab": {
     "base_uri": "https://localhost:8080/",
     "height": 1463
    },
    "colab_type": "code",
    "id": "8oT0vzayksIa",
    "outputId": "c4e9843e-a41c-4b68-bf48-cb86b954cc1a"
   },
   "outputs": [
    {
     "name": "stderr",
     "output_type": "stream",
     "text": [
      "/usr/local/lib/python3.7/site-packages/ipykernel_launcher.py:26: UserWarning: Implicit dimension choice for softmax has been deprecated. Change the call to include dim=X as an argument.\n"
     ]
    },
    {
     "name": "stdout",
     "output_type": "stream",
     "text": [
      "Ep:100: reward=-187.332, loss=4683.617, eval=-161.016\n",
      "Ep:200: reward=-145.177, loss=3086.124, eval=-202.388\n",
      "Ep:300: reward=-143.251, loss=3080.996, eval=-191.501\n",
      "Ep:400: reward=-128.553, loss=2630.721, eval=-277.791\n",
      "Ep:500: reward=-122.686, loss=2666.929, eval=-519.578\n",
      "Ep:600: reward=-149.670, loss=3779.298, eval=-564.814\n",
      "Ep:700: reward=-161.759, loss=4098.465, eval=-641.012\n",
      "Ep:800: reward=-129.474, loss=3205.309, eval=-737.138\n",
      "Ep:900: reward=-117.470, loss=3124.368, eval=-872.612\n",
      "Ep:1000: reward=-131.502, loss=3880.647, eval=-805.050\n",
      "Done\n"
     ]
    }
   ],
   "source": [
    "num_iter = 10\n",
    "num_train = 100\n",
    "num_eval = 10 # dont change this\n",
    "log = {}\n",
    "log['train_reward'] = []\n",
    "log['eval_reward'] = []\n",
    "log['episode'] = []\n",
    "for itr in range(num_iter):\n",
    "    #agent.model.epsilon = epsilon * epsilon_decay ** (total_episodes / epsilon_decay_episodes)\n",
    "    #print('** Iteration {}/{} **'.format(itr+1, num_iter))\n",
    "    train_reward, train_loss = run_iteration('train', num_train, agent, gen)\n",
    "    eval_reward, _ = run_iteration('eval', num_eval, agent, gen)\n",
    "    total_episodes += num_train\n",
    "    log['train_reward'].append(train_reward)\n",
    "    log['eval_reward'].append(eval_reward)\n",
    "    log['episode'].append(total_episodes)\n",
    "    print('Ep:{}: reward={:.3f}, loss={:.3f}, eval={:.3f}'.format(total_episodes, train_reward, train_loss, eval_reward))\n",
    "    \n",
    "    if eval_reward > 499 and env_name == 'CartPole-v1': # dont change this\n",
    "        print('Success!!! You have solved cartpole task! Time for a bigger challenge!')\n",
    "    \n",
    "    # save model\n",
    "pickle.dump(log, open('{algo}_{env}_agent.pkl'.format(algo=ALGORITHM_IMPLEMENTED, env=env_name), 'wb'))\n",
    "print('Done')"
   ]
  },
  {
   "cell_type": "markdown",
   "metadata": {
    "colab_type": "text",
    "id": "Ja001im9ksIZ"
   },
   "source": [
    "### Let's do this!!\n",
    "\n",
    "Below is the loop to train and evaluate your agent. You can play around with the number of iterations to run, and the number of rollouts per iteration. \n",
    "\n",
    "You can rerun this cell multiple times to keep training your model for more episodes. In any case, it shouldn't take more than 30 min to an 1 hour to train. (training never took me more than 5 min). HINT: Keep an eye on the eval_reward, it'll be pretty noisy, but if that should be slowly increasing."
   ]
  },
  {
   "cell_type": "code",
   "execution_count": 102,
   "metadata": {
    "colab": {},
    "colab_type": "code",
    "id": "sxlxf0YwksIc"
   },
   "outputs": [
    {
     "name": "stderr",
     "output_type": "stream",
     "text": [
      "/usr/local/lib/python3.7/site-packages/ipykernel_launcher.py:26: UserWarning: Implicit dimension choice for softmax has been deprecated. Change the call to include dim=X as an argument.\n"
     ]
    },
    {
     "data": {
      "text/plain": [
       "(tensor(-263.1787), None)"
      ]
     },
     "execution_count": 102,
     "metadata": {},
     "output_type": "execute_result"
    }
   ],
   "source": [
    "# You can visualize your policy at any time\n",
    "run_iteration('eval', 1, agent, gen, render=False)"
   ]
  },
  {
   "cell_type": "markdown",
   "metadata": {
    "colab_type": "text",
    "collapsed": true,
    "id": "0SrE9Kh0ksIe"
   },
   "source": [
    "## Analysis\n",
    "\n",
    "Plot the performance of each of your agents for the cartpole task and one additional task. When choosing a new environment, make sure is has a discrete action space. For each plot the x axis should show the total number of episodes the model was trained on, and the y axis shows the average total reward per episode.\n",
    "\n",
    "You can leave the plots as cell outputs below, or you can save them as images and submit them separately.\n",
    "\n",
    "### Deliverables\n",
    "- single plot showing both the REINFORCE algorithm's performance, and A3C's performance on the same plot for the cartpole environment (CartPole-v1).\n",
    "- single plot showing both the REINFORCE algorithm's performance, and A3C's performance on the same plot for a second environment of your choice (suggested -> LunarLander-v2, it's a little tricky but watching the agent fly spaceships is very entertaining!).\n",
    "- in every case you models have to learn something for full credit."
   ]
  },
  {
   "cell_type": "code",
   "execution_count": 104,
   "metadata": {
    "colab": {},
    "colab_type": "code",
    "id": "90yijcV0ksIf"
   },
   "outputs": [
    {
     "data": {
      "image/png": "[encoded data removed]",
      "text/plain": [
       "<Figure size 432x288 with 1 Axes>"
      ]
     },
     "metadata": {
      "needs_background": "light"
     },
     "output_type": "display_data"
    },
    {
     "data": {
      "image/png": "[encoded data removed]",
      "text/plain": [
       "<Figure size 432x288 with 1 Axes>"
      ]
     },
     "metadata": {
      "needs_background": "light"
     },
     "output_type": "display_data"
    }
   ],
   "source": [
    "a3c_results = pickle.load(open('A3C_{}_agent.pkl'.format(env_name), 'rb'))\n",
    "\n",
    "# show average train reward\n",
    "reinforce_results = pickle.load(open('REINFORCE_{}_agent.pkl'.format(env_name), 'rb'))\n",
    "plt.plot(a3c_results['episode'], a3c_results['train_reward'], label='a3c_agent')\n",
    "plt.plot(reinforce_results['episode'], reinforce_results['train_reward'], label='reinforce_agent')\n",
    "plt.xlabel('episode')\n",
    "plt.ylabel('average train reward: ' + env_name)\n",
    "plt.legend()\n",
    "plt.savefig('train_reward_{}'.format(env_name))\n",
    "plt.show()\n",
    "\n",
    "\n",
    "# show average eval reward\n",
    "plt.plot(a3c_results['episode'], a3c_results['eval_reward'], label='a3c_agent')\n",
    "plt.plot(reinforce_results['episode'], reinforce_results['eval_reward'], label='reinforce_agent')\n",
    "plt.xlabel('episode')\n",
    "plt.legend()\n",
    "plt.ylabel('average eval reward: ' + env_name)\n",
    "plt.savefig('eval_reward_{}'.format(env_name))\n",
    "plt.show()"
   ]
  },
  {
   "cell_type": "code",
   "execution_count": null,
   "metadata": {},
   "outputs": [],
   "source": []
  },
  {
   "cell_type": "code",
   "execution_count": null,
   "metadata": {},
   "outputs": [],
   "source": []
  },
  {
   "cell_type": "code",
   "execution_count": null,
   "metadata": {},
   "outputs": [],
   "source": []
  }
 ],
 "metadata": {
  "colab": {
   "collapsed_sections": [],
   "name": "rl_hw_problems.ipynb",
   "provenance": [],
   "version": "0.3.2"
  },
  "kernelspec": {
   "display_name": "Python 3",
   "language": "python",
   "name": "python3"
  },
  "language_info": {
   "codemirror_mode": {
    "name": "ipython",
    "version": 3
   },
   "file_extension": ".py",
   "mimetype": "text/x-python",
   "name": "python",
   "nbconvert_exporter": "python",
   "pygments_lexer": "ipython3",
   "version": "3.7.1"
  }
 },
 "nbformat": 4,
 "nbformat_minor": 1
}
